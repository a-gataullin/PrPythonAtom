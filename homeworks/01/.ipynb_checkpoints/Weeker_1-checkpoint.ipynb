{
 "cells": [
  {
   "cell_type": "markdown",
   "metadata": {},
   "source": [
    "# Недельник 1\n",
    "\n",
    "Как было сказано на лекции, на текущей неделе вы получаете ежедневные задания. Система оценки следующая: в первый день(четверг) вы делаете первый pull-request в ветку homework_01. Потом каждый день делаете коммит, он будет автоматически привязывать к pull-request. Если задачка не сделана в течении 2-х дней она сгорает. (Можно четверг сделать в четверг и пятницу)"
   ]
  },
  {
   "cell_type": "markdown",
   "metadata": {},
   "source": [
    "# Четверг"
   ]
  },
  {
   "cell_type": "code",
   "execution_count": 15,
   "metadata": {
    "scrolled": true
   },
   "outputs": [],
   "source": [
    "#TODO Сделайте калькулятор произвольных выражений, операции следующие: +, -, /, ^, *. скобок нет\n",
    "def calculate(input_str):\n",
    "    return eval(input_str)\n",
    "\n",
    " "
   ]
  },
  {
   "cell_type": "code",
   "execution_count": 16,
   "metadata": {},
   "outputs": [],
   "source": [
    "assert calculate(\"2 + 2 * 2\") == 6\n",
    "assert calculate(\"345 / 5 * 21\") == 1449.\n",
    "assert calculate(\"3^3 - 10 + 41 * 3\") == 119\n",
    "assert calculate(\"42 / 7 * 32\") == 192.0\n",
    "\n",
    "assert calculate(\"8^2 - 5 * 10\") == -40\n",
    "assert calculate(\"35/5*3\") == 21\n",
    "\n",
    "\n",
    "#TODO Дополнить еще 2-мя своими тестами"
   ]
  },
  {
   "cell_type": "markdown",
   "metadata": {},
   "source": [
    "# Пятница"
   ]
  },
  {
   "cell_type": "code",
   "execution_count": 22,
   "metadata": {},
   "outputs": [],
   "source": [
    "#TODO метод разворачивающий строку HE2LO -> HELLO (число означает сколько раз встречается буква)\n",
    "def transform_string(inp_string):\n",
    "    answer = \"\"\n",
    "    s = \"\"\n",
    "    for i in inp_string:\n",
    "        if i.isdigit():\n",
    "            s += i\n",
    "        elif s:\n",
    "           answer += i*int(s)\n",
    "           s = \"\"\n",
    "        else:\n",
    "            answer += i\n",
    "    return answer"
   ]
  },
  {
   "cell_type": "code",
   "execution_count": 23,
   "metadata": {},
   "outputs": [],
   "source": [
    "assert transform_string(\"HE2LO\") == \"HELLO\"\n",
    "assert transform_string(\"HI\") == \"HI\"\n",
    "assert transform_string(\"пр12ивет\") == \"приииииииииииивет\"\n",
    "assert transform_string(\"2л3у78н65тик\") == 'ллуууннннннннннннннннннннннннннннннннннннннннннннннннннннннннннннннннннннннннннннннтттттттттттттттттттттттттттттттттттттттттттттттттттттттттттттттттик'\n",
    "\n",
    "assert transform_string(\"2ч2о2к2о2п2а2й\") == \"ччооккооппаайй\"\n",
    "assert transform_string(\"4PY5THON\") == \"PPPPYTTTTTHON\"\n",
    "#TODO Дописать 2 своих теста"
   ]
  },
  {
   "cell_type": "markdown",
   "metadata": {},
   "source": [
    "# Суббота"
   ]
  },
  {
   "cell_type": "code",
   "execution_count": 29,
   "metadata": {},
   "outputs": [],
   "source": [
    "#TODO метод выводящий статистику по строке, кол-во гласных, согласных, цифр, строчных букв, прописных букв\n",
    "def string_stat(inp_string):\n",
    "    digits=vowels=consonants= \\\n",
    "    lowers=uppers=0\n",
    "    for i in inp_string:\n",
    "        if i.isdigit(): digits += 1\n",
    "        else:\n",
    "            if i.lower() in 'ауоыиэяюёе': vowels += 1\n",
    "            else: consonants += 1\n",
    "            if i.islower(): lowers += 1\n",
    "            else: uppers += 1\n",
    "    return vowels, consonants, digits, lowers, uppers"
   ]
  },
  {
   "cell_type": "code",
   "execution_count": 33,
   "metadata": {},
   "outputs": [],
   "source": [
    "assert string_stat(\"Тевирп\") == (2, 4, 0, 5, 1)\n",
    "assert string_stat(\"КоРоВа4\") == (3, 3, 1, 3, 3)\n",
    "\n",
    "assert string_stat(\"П2ИТО2Н\") == (2, 3, 2, 0, 5)\n",
    "assert string_stat(\"4З2м4Е5я\") == (2, 2, 4, 2, 2)\n",
    "\n",
    "#TODO 2 своих теста"
   ]
  },
  {
   "cell_type": "markdown",
   "metadata": {},
   "source": [
    "# Воскресенье - ВЫХОДНОЙ"
   ]
  },
  {
   "cell_type": "markdown",
   "metadata": {},
   "source": [
    "# Понедельник"
   ]
  },
  {
   "cell_type": "code",
   "execution_count": 38,
   "metadata": {},
   "outputs": [],
   "source": [
    "#TODO инвертируйте словарь из k - [v_1, v_2] в v_1 [k_1]\n",
    "def dict_inverter(input_dict):\n",
    "    inv_dict = {}\n",
    "    for k, v in input_dict.items():\n",
    "        for i in v:\n",
    "            if i in inv_dict:\n",
    "                if isinstance(inv_dict[i], list):\n",
    "                     inv_dict[i].append(k)\n",
    "                else:\n",
    "                    inv_dict[i] = [inv_dict[i], k]\n",
    "            else:\n",
    "                inv_dict[i] = k\n",
    "    return inv_dict"
   ]
  },
  {
   "cell_type": "code",
   "execution_count": 39,
   "metadata": {},
   "outputs": [],
   "source": [
    "assert dict_inverter({\"mango\" : [\"eatable\"], \"pillow\": [\"sleepable\"]}) == {\"eatable\": \"mango\", \"sleepable\": \"pillow\"}\n",
    "assert dict_inverter({\"mango\" : [\"eatable\", \"readable\"]}) == {\"readable\":\"mango\", \"eatable\":\"mango\"}\n",
    "assert dict_inverter({\"mango\" : [\"eatable\"], \"banana\": [\"eatable\"]}) == {\"eatable\": [\"mango\", \"banana\"]}\n",
    "\n",
    "assert dict_inverter({\"mango\" : [\"eatable\"], \"banana\": [\"mango\"]}) == {\"eatable\": \"mango\", \"mango\": \"banana\"}\n",
    "\n",
    "#TODO Один свой тест"
   ]
  },
  {
   "cell_type": "markdown",
   "metadata": {},
   "source": [
    "# Вторник"
   ]
  },
  {
   "cell_type": "code",
   "execution_count": 48,
   "metadata": {},
   "outputs": [],
   "source": [
    "#TODO вывести уникальные элементы массива\n",
    "def uniq_array(input_arr):\n",
    "    return list(set(input_arr))"
   ]
  },
  {
   "cell_type": "code",
   "execution_count": 49,
   "metadata": {},
   "outputs": [],
   "source": [
    "assert uniq_array([0]) == [0]\n",
    "assert uniq_array([0, 1, 2, 3]) == [0, 1, 2, 3]\n",
    "assert uniq_array([\"f\", \"t\", \"f\"]) == ['t', 'f']\n",
    "assert uniq_array(['rt', 'rt']) == ['rt']\n",
    "\n",
    "assert uniq_array(['t', 'tt']) == ['t', 'tt']\n",
    "assert uniq_array(['00', '0', 'weeker']) == ['00', '0', 'weeker']\n",
    "\n",
    "\n",
    "\n"
   ]
  },
  {
   "cell_type": "code",
   "execution_count": null,
   "metadata": {},
   "outputs": [],
   "source": []
  }
 ],
 "metadata": {
  "kernelspec": {
   "display_name": "Python 3",
   "language": "python",
   "name": "python3"
  },
  "language_info": {
   "codemirror_mode": {
    "name": "ipython",
    "version": 3
   },
   "file_extension": ".py",
   "mimetype": "text/x-python",
   "name": "python",
   "nbconvert_exporter": "python",
   "pygments_lexer": "ipython3",
   "version": "3.6.5"
  }
 },
 "nbformat": 4,
 "nbformat_minor": 2
}
