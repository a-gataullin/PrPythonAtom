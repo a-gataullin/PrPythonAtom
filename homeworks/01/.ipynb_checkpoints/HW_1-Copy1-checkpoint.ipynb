{
 "cells": [
  {
   "cell_type": "code",
   "execution_count": 1,
   "metadata": {},
   "outputs": [
    {
     "ename": "IndentationError",
     "evalue": "expected an indented block (<ipython-input-1-fdb2b2ca9b6a>, line 7)",
     "output_type": "error",
     "traceback": [
      "\u001b[0;36m  File \u001b[0;32m\"<ipython-input-1-fdb2b2ca9b6a>\"\u001b[0;36m, line \u001b[0;32m7\u001b[0m\n\u001b[0;31m    def get_key(self):\u001b[0m\n\u001b[0m      ^\u001b[0m\n\u001b[0;31mIndentationError\u001b[0m\u001b[0;31m:\u001b[0m expected an indented block\n"
     ]
    }
   ],
   "source": [
    "class HashMap:\n",
    "    \n",
    "    class Entry:\n",
    "        def __init__(self, key, value):\n",
    "            #TODO store key and value as attributes\n",
    "            \n",
    "        def get_key(self):\n",
    "            #TODO return key\n",
    "            \n",
    "        def get_value(self):\n",
    "            #TODO return value\n",
    "            \n",
    "        def __eq__(self, other):\n",
    "            #TODO реализовать функцию сравнения\n",
    "            #Пояснения: self - текущий объект entry, other - какой-то другой объект\n",
    "            #Какое условие на равенство объектов в ассоциативном массиве?\n",
    "            #Если объекты равны, то метод должен возвращать True, иначе False\n",
    "    \n",
    "    def __init__(self, bucket_num = 64):\n",
    "        #TODO Создать массив для бакетов\n",
    "\n",
    "    def get(self, key, default_value=None):\n",
    "        #TODO метод get, возвращающий значение, если оно присутствует, иначе default_value\n",
    "\n",
    "    def put(self, key, value):\n",
    "        #TODO метод put, кладет значение по ключу, в случае, если ключ уже присутствует он его заменяет\n",
    "\n",
    "    def __len__(self):\n",
    "        #TODO Возвращает количество Entry в массиве\n",
    "\n",
    "    def _get_hash(self, key):\n",
    "        #TODO Вернуть хеш от ключа, по которому он кладется в бакет\n",
    "\n",
    "    def _get_index(self, hash_value):\n",
    "        #TODO По значению хеша вернуть индекс элемента в массиве\n",
    "        \n",
    "    def values(self):\n",
    "        #TODO Задание со звездочкой!\n",
    "        #Должен возвращать генератор или итератор значений (на самом деле итератор, но не принципиально, через генераторы проще ИМХО)\n",
    "        \n",
    "    def keys(self):\n",
    "        #TODO Задание со звездочкой!\n",
    "        #Должен возвращать генератор или итератор ключей (на самом деле итератор, но не принципиально, через генераторы проще ИМХО)\n",
    "        \n",
    "    def items(self):\n",
    "        #TODO Задание со звездочкой!\n",
    "        #Должен возвращать генератор или итератор пар ключ и значение (tuples)\n",
    "        #(на самом деле итератор, но не принципиально, через генераторы проще ИМХО)\n",
    "        \n",
    "    def __str__(self):\n",
    "        #TODO Метод, вызываемый при вызове print, пофантазируйте, что можно написать"
   ]
  },
  {
   "cell_type": "code",
   "execution_count": 2,
   "metadata": {},
   "outputs": [
    {
     "ename": "IndentationError",
     "evalue": "expected an indented block (<ipython-input-2-ee2deaa0b54d>, line 6)",
     "output_type": "error",
     "traceback": [
      "\u001b[0;36m  File \u001b[0;32m\"<ipython-input-2-ee2deaa0b54d>\"\u001b[0;36m, line \u001b[0;32m6\u001b[0m\n\u001b[0;31m    def put(self, key, value):\u001b[0m\n\u001b[0m      ^\u001b[0m\n\u001b[0;31mIndentationError\u001b[0m\u001b[0;31m:\u001b[0m expected an indented block\n"
     ]
    }
   ],
   "source": [
    "class HashSet(HashMap):\n",
    "   \n",
    "    def get(self, key, default_value=None):\n",
    "        #TODO достаточно переопределить данный метод\n",
    "\n",
    "    def put(self, key, value):\n",
    "        #TODO метод put, нужно переопределить данный метод\n",
    "\n",
    "    def __len__(self):\n",
    "        #TODO Возвращает количество Entry в массиве\n",
    "\n",
    "    def values(self):\n",
    "        #TODO Задание со звездочкой!\n",
    "        #Если делали, то нужно бы переопределить\n",
    "        #Должен возвращать генератор или итератор значений (на самом деле итератор, но не принципиально, через генераторы проще ИМХО)"
   ]
  },
  {
   "cell_type": "code",
   "execution_count": null,
   "metadata": {},
   "outputs": [],
   "source": []
  }
 ],
 "metadata": {
  "kernelspec": {
   "display_name": "Python 3",
   "language": "python",
   "name": "python3"
  }
 },
 "nbformat": 4,
 "nbformat_minor": 2
}
