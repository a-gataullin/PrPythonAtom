{
 "cells": [
  {
   "cell_type": "code",
   "execution_count": 47,
   "metadata": {},
   "outputs": [],
   "source": [
    "import pandas as pd\n",
    "import numpy as np\n",
    "import pprint"
   ]
  },
  {
   "cell_type": "code",
   "execution_count": 63,
   "metadata": {},
   "outputs": [],
   "source": [
    "class prefix_tree:\n",
    "    def __init__(self):\n",
    "        self.root = [{}]\n",
    "        \n",
    "    def add(self, string, json, rating):               # node = [dict_of_nodes, top_10, key_of_min_value, True_if_word]\n",
    "        if self.check(string):\n",
    "            return\n",
    "        \n",
    "        wrk_dict = self.root\n",
    "        for i in string:\n",
    "            if i in wrk_dict[0]:\n",
    "                wrk_dict = wrk_dict[0][i]\n",
    "                if len(wrk_dict[1]) == 10:\n",
    "                    if rating > wrk_dict[2]:\n",
    "                        wrk_dict[1].pop(wrk_dict[2])\n",
    "                        wrk_dict[1][rating] = string\n",
    "                        wrk_dict[2] = min(wrk_dict[1].keys())\n",
    "                else:\n",
    "                    wrk_dict[1][rating] = string\n",
    "                    wrk_dict[2] = min(wrk_dict[1].keys())\n",
    "            else:\n",
    "                wrk_dict[0][i] = [{}, {rating: string}, rating]                \n",
    "                wrk_dict = wrk_dict[0][i]\n",
    "        wrk_dict.append(json)\n",
    "     \n",
    "    def check(self, string):\n",
    "        wrk_dict = self.root\n",
    "        for i in string:\n",
    "            if i in wrk_dict[0]:\n",
    "                wrk_dict = wrk_dict[0][i]\n",
    "            else:\n",
    "                return False\n",
    "        if len(wrk_dict) != 3:\n",
    "            return True\n",
    "        return False\n",
    "    \n",
    "    def check_part(self, string):\n",
    "        wrk_dict = self.root\n",
    "        for i in string:\n",
    "            if i in wrk_dict[0]:\n",
    "                wrk_dict = wrk_dict[0][i]\n",
    "            else:\n",
    "                return False\n",
    "        return True"
   ]
  },
  {
   "cell_type": "code",
   "execution_count": 62,
   "metadata": {},
   "outputs": [
    {
     "name": "stdout",
     "output_type": "stream",
     "text": [
      "{12: 'c', 11: 'cc', 10: 'ccc', 9: 'cccc', 8: 'ccccc', 7: 'cccccc', 2: 'ccccccccccc', 6: 'ccccccc', 5: 'cccccccc', 4: 'ccccccccc'}\n",
      "{12: 'c', 11: 'cc', 10: 'ccc', 9: 'cccc', 8: 'ccccc', 7: 'cccccc', 6: 'ccccccc', 5: 'cccccccc', 4: 'ccccccccc', 3: 'cccccccccc'}\n",
      "{12: 'c', 11: 'cc', 10: 'ccc', 9: 'cccc', 8: 'ccccc', 7: 'cccccc', 6: 'ccccccc', 5: 'cccccccc', 4: 'ccccccccc', 13: 'cccccccccccc'}\n"
     ]
    }
   ],
   "source": [
    "pr_tree = prefix_tree()\n",
    "pr_tree.add(\"c\",12)\n",
    "# pr_tree.add(\"cтрока1\",\"запроcы6\")\n",
    "# pr_tree.add(\"cтрока23\",\"запроcы5\")\n",
    "# pr_tree.add(\"cтрока545\",\"запроcы41\")\n",
    "# pr_tree.add(\"cтрока154334\",\"запроcы62\")\n",
    "# pr_tree.add(\"cтрока23\",\"запроcы54\")\n",
    "# pr_tree.add(\"cтрока43\",\"запроcы43\")\n",
    "# pr_tree.add(\"cтрока1565\",\"запроcы63\")\n",
    "# pr_tree.add(\"cтрока2\",\"запроcы54\")\n",
    "# assert pr_tree.check(\"cтрока\")\n",
    "# assert not pr_tree.check(\"cтрок\")\n",
    "# assert not pr_tree.check(\"cтрока1\")\n",
    "#\n",
    "pr_tree.add(\"cc\",11)\n",
    "pr_tree.add(\"ccc\",10)\n",
    "pr_tree.add(\"cccc\",9)\n",
    "pr_tree.add(\"ccccc\",8)\n",
    "pr_tree.add(\"cccccc\",7)\n",
    "pr_tree.add(\"ccccccccccc\",2)\n",
    "pr_tree.add(\"ccccccc\",6)\n",
    "pr_tree.add(\"cccccccc\",5)\n",
    "pr_tree.add(\"ccccccccc\",4)\n",
    "pr_tree.check_part(\"c\")\n",
    "pr_tree.add(\"cccccccccc\",3)\n",
    "\n",
    "pr_tree.check_part(\"c\")\n",
    "pr_tree.add(\"cccccccccccc\",13)\n",
    "pr_tree.check_part(\"c\")"
   ]
  },
  {
   "cell_type": "code",
   "execution_count": 64,
   "metadata": {},
   "outputs": [],
   "source": [
    "line = \"string\\tjson\\trating\""
   ]
  },
  {
   "cell_type": "code",
   "execution_count": 65,
   "metadata": {},
   "outputs": [
    {
     "data": {
      "text/plain": [
       "'string json rating'"
      ]
     },
     "execution_count": 65,
     "metadata": {},
     "output_type": "execute_result"
    }
   ],
   "source": [
    "line"
   ]
  },
  {
   "cell_type": "code",
   "execution_count": 67,
   "metadata": {},
   "outputs": [
    {
     "data": {
      "text/plain": [
       "['string', 'json', 'rating']"
      ]
     },
     "execution_count": 67,
     "metadata": {},
     "output_type": "execute_result"
    }
   ],
   "source": [
    "line.split()"
   ]
  },
  {
   "cell_type": "code",
   "execution_count": null,
   "metadata": {},
   "outputs": [],
   "source": []
  }
 ],
 "metadata": {
  "anaconda-cloud": {},
  "kernelspec": {
   "display_name": "Python 3",
   "language": "python",
   "name": "python3"
  },
  "language_info": {
   "codemirror_mode": {
    "name": "ipython",
    "version": 3
   },
   "file_extension": ".py",
   "mimetype": "text/x-python",
   "name": "python",
   "nbconvert_exporter": "python",
   "pygments_lexer": "ipython3",
   "version": "3.6.5"
  }
 },
 "nbformat": 4,
 "nbformat_minor": 1
}
