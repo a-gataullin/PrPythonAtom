{
 "cells": [
  {
   "cell_type": "code",
   "execution_count": null,
<<<<<<< HEAD
   "metadata": {},
=======
   "metadata": {
    "collapsed": true
   },
>>>>>>> 4fa6f4739464386e829825e16b48c227386d56a7
   "outputs": [],
   "source": []
  },
  {
   "cell_type": "code",
<<<<<<< HEAD
   "execution_count": 19,
=======
   "execution_count": 1,
>>>>>>> 4fa6f4739464386e829825e16b48c227386d56a7
   "metadata": {
    "ExecuteTime": {
     "end_time": "2018-10-08T08:20:14.399748Z",
     "start_time": "2018-10-08T08:20:14.392707Z"
    }
   },
   "outputs": [],
   "source": [
    "import pandas as pd\n",
    "import numpy as np\n",
    "\n",
    "import matplotlib.pyplot as plt ### Библиотека для рисования графичков, гистограмм, и проч.\n",
    "\n",
    "### нужно писать магию чтобы графики рисовались внутри jupyter notebook \n",
    "%matplotlib inline              "
   ]
  },
  {
   "cell_type": "markdown",
   "metadata": {},
   "source": [
    "##### Игрушечный пример"
   ]
  },
  {
   "cell_type": "code",
<<<<<<< HEAD
   "execution_count": 20,
=======
   "execution_count": 2,
>>>>>>> 4fa6f4739464386e829825e16b48c227386d56a7
   "metadata": {
    "ExecuteTime": {
     "end_time": "2018-10-08T09:32:16.466410Z",
     "start_time": "2018-10-08T09:32:16.436554Z"
<<<<<<< HEAD
    }
=======
    },
    "collapsed": true
>>>>>>> 4fa6f4739464386e829825e16b48c227386d56a7
   },
   "outputs": [],
   "source": [
    "df = pd.DataFrame(\n",
    "    data=np.array([\n",
    "        ['f', 55, 171],\n",
    "        ['f', 54, 180],\n",
    "        ['f', 60, 173],\n",
    "        ['f', 59, 180],\n",
    "        ['m', 60, 177],\n",
    "        ['m', 65, 177],\n",
    "        ['m', 75, 165],\n",
    "        ['m', 83, 182],\n",
    "        ['m', 72, 165],\n",
    "        ['m', 85, 183],\n",
    "        ['f', 49, 172],\n",
    "        ['f', 55, 155],\n",
    "       ]).T, \n",
    "    index=['sex', 'weight', 'height']).T"
   ]
  },
  {
   "cell_type": "code",
<<<<<<< HEAD
   "execution_count": 21,
=======
   "execution_count": 3,
>>>>>>> 4fa6f4739464386e829825e16b48c227386d56a7
   "metadata": {
    "ExecuteTime": {
     "end_time": "2018-10-08T09:32:16.605209Z",
     "start_time": "2018-10-08T09:32:16.593279Z"
    }
   },
   "outputs": [
    {
     "data": {
      "text/html": [
       "<div>\n",
<<<<<<< HEAD
       "<style scoped>\n",
       "    .dataframe tbody tr th:only-of-type {\n",
       "        vertical-align: middle;\n",
       "    }\n",
       "\n",
       "    .dataframe tbody tr th {\n",
       "        vertical-align: top;\n",
       "    }\n",
       "\n",
       "    .dataframe thead th {\n",
       "        text-align: right;\n",
       "    }\n",
       "</style>\n",
=======
>>>>>>> 4fa6f4739464386e829825e16b48c227386d56a7
       "<table border=\"1\" class=\"dataframe\">\n",
       "  <thead>\n",
       "    <tr style=\"text-align: right;\">\n",
       "      <th></th>\n",
       "      <th>sex</th>\n",
       "      <th>weight</th>\n",
       "      <th>height</th>\n",
       "    </tr>\n",
       "  </thead>\n",
       "  <tbody>\n",
       "    <tr>\n",
       "      <th>0</th>\n",
       "      <td>f</td>\n",
       "      <td>55</td>\n",
       "      <td>171</td>\n",
       "    </tr>\n",
       "    <tr>\n",
       "      <th>1</th>\n",
       "      <td>f</td>\n",
       "      <td>54</td>\n",
       "      <td>180</td>\n",
       "    </tr>\n",
       "    <tr>\n",
       "      <th>2</th>\n",
       "      <td>f</td>\n",
       "      <td>60</td>\n",
       "      <td>173</td>\n",
       "    </tr>\n",
       "    <tr>\n",
       "      <th>3</th>\n",
       "      <td>f</td>\n",
       "      <td>59</td>\n",
       "      <td>180</td>\n",
       "    </tr>\n",
       "    <tr>\n",
       "      <th>4</th>\n",
       "      <td>m</td>\n",
       "      <td>60</td>\n",
       "      <td>177</td>\n",
       "    </tr>\n",
       "    <tr>\n",
       "      <th>5</th>\n",
       "      <td>m</td>\n",
       "      <td>65</td>\n",
       "      <td>177</td>\n",
       "    </tr>\n",
       "    <tr>\n",
       "      <th>6</th>\n",
       "      <td>m</td>\n",
       "      <td>75</td>\n",
       "      <td>165</td>\n",
       "    </tr>\n",
       "    <tr>\n",
       "      <th>7</th>\n",
       "      <td>m</td>\n",
       "      <td>83</td>\n",
       "      <td>182</td>\n",
       "    </tr>\n",
       "    <tr>\n",
       "      <th>8</th>\n",
       "      <td>m</td>\n",
       "      <td>72</td>\n",
       "      <td>165</td>\n",
       "    </tr>\n",
       "    <tr>\n",
       "      <th>9</th>\n",
       "      <td>m</td>\n",
       "      <td>85</td>\n",
       "      <td>183</td>\n",
       "    </tr>\n",
       "    <tr>\n",
       "      <th>10</th>\n",
       "      <td>f</td>\n",
       "      <td>49</td>\n",
       "      <td>172</td>\n",
       "    </tr>\n",
       "    <tr>\n",
       "      <th>11</th>\n",
       "      <td>f</td>\n",
       "      <td>55</td>\n",
       "      <td>155</td>\n",
       "    </tr>\n",
       "  </tbody>\n",
       "</table>\n",
       "</div>"
      ],
      "text/plain": [
       "   sex weight height\n",
       "0    f     55    171\n",
       "1    f     54    180\n",
       "2    f     60    173\n",
       "3    f     59    180\n",
       "4    m     60    177\n",
       "5    m     65    177\n",
       "6    m     75    165\n",
       "7    m     83    182\n",
       "8    m     72    165\n",
       "9    m     85    183\n",
       "10   f     49    172\n",
       "11   f     55    155"
      ]
     },
<<<<<<< HEAD
     "execution_count": 21,
=======
     "execution_count": 3,
>>>>>>> 4fa6f4739464386e829825e16b48c227386d56a7
     "metadata": {},
     "output_type": "execute_result"
    }
   ],
   "source": [
    "df"
   ]
  },
  {
   "cell_type": "code",
<<<<<<< HEAD
   "execution_count": 22,
=======
   "execution_count": 4,
>>>>>>> 4fa6f4739464386e829825e16b48c227386d56a7
   "metadata": {
    "ExecuteTime": {
     "end_time": "2018-10-08T09:32:16.749683Z",
     "start_time": "2018-10-08T09:32:16.744015Z"
<<<<<<< HEAD
    }
=======
    },
    "collapsed": true
>>>>>>> 4fa6f4739464386e829825e16b48c227386d56a7
   },
   "outputs": [],
   "source": [
    "df.weight = df.weight.astype(np.int32)\n",
    "df.height = df.height.astype(np.int32)"
   ]
  },
  {
   "cell_type": "code",
<<<<<<< HEAD
   "execution_count": 23,
=======
   "execution_count": 5,
>>>>>>> 4fa6f4739464386e829825e16b48c227386d56a7
   "metadata": {
    "ExecuteTime": {
     "end_time": "2018-10-08T16:58:41.962802Z",
     "start_time": "2018-10-08T16:58:41.722377Z"
    }
   },
   "outputs": [
    {
     "data": {
<<<<<<< HEAD
      "image/png": "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\n",
      "text/plain": [
       "<Figure size 432x288 with 1 Axes>"
=======
      "image/png": "iVBORw0KGgoAAAANSUhEUgAAAe0AAAEKCAYAAAA/9Q3BAAAABHNCSVQICAgIfAhkiAAAAAlwSFlz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\nAEAi/j959EFnxkrxYgAAAABJRU5ErkJggg==\n",
      "text/plain": [
       "<matplotlib.figure.Figure at 0x10bc27b70>"
>>>>>>> 4fa6f4739464386e829825e16b48c227386d56a7
      ]
     },
     "metadata": {},
     "output_type": "display_data"
    }
   ],
   "source": [
    "plt.scatter(df.weight[df.sex=='m'], df.height[df.sex=='m'], color = 'blue', label='male');\n",
    "plt.scatter(df.weight[df.sex=='f'], df.height[df.sex=='f'], color = 'red', label='female');\n",
    "plt.legend(loc=[1.1, 0.5]);\n",
    "plt.ylabel('рост');\n",
    "plt.xlabel('вес');"
   ]
  },
  {
   "cell_type": "code",
<<<<<<< HEAD
   "execution_count": 24,
=======
   "execution_count": 6,
>>>>>>> 4fa6f4739464386e829825e16b48c227386d56a7
   "metadata": {
    "ExecuteTime": {
     "end_time": "2018-10-08T16:58:47.024276Z",
     "start_time": "2018-10-08T16:58:46.787009Z"
    }
   },
   "outputs": [
    {
     "data": {
<<<<<<< HEAD
      "image/png": "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\n",
      "text/plain": [
       "<Figure size 432x288 with 1 Axes>"
=======
      "image/png": "iVBORw0KGgoAAAANSUhEUgAAAe0AAAEKCAYAAAA/9Q3BAAAABHNCSVQICAgIfAhkiAAAAAlwSFlz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\nBgAgEIQ2AACBILQBAAjE/wdWgsw68ezLEQAAAABJRU5ErkJggg==\n",
      "text/plain": [
       "<matplotlib.figure.Figure at 0x10bcf3128>"
>>>>>>> 4fa6f4739464386e829825e16b48c227386d56a7
      ]
     },
     "metadata": {},
     "output_type": "display_data"
    }
   ],
   "source": [
    "plt.scatter(df.weight[df.sex=='m'], df.height[df.sex=='m'], color = 'blue', label='male');\n",
    "plt.scatter(df.weight[df.sex=='f'], df.height[df.sex=='f'], color = 'red', label='female');\n",
    "\n",
    "plt.scatter(65, 180, color = 'green', marker='x', label='???');\n",
    "plt.legend(loc=[1.1, 0.5]);\n",
    "plt.ylabel('рост');\n",
    "plt.xlabel('вес');"
   ]
  },
  {
   "cell_type": "markdown",
   "metadata": {},
   "source": [
    "________"
   ]
  },
  {
   "cell_type": "markdown",
   "metadata": {},
   "source": [
    "## Попредсказываем?"
   ]
  },
  {
   "cell_type": "markdown",
   "metadata": {},
   "source": [
    "##### пандас умеет в интернет"
   ]
  },
  {
   "cell_type": "code",
<<<<<<< HEAD
   "execution_count": 25,
=======
   "execution_count": 37,
>>>>>>> 4fa6f4739464386e829825e16b48c227386d56a7
   "metadata": {
    "ExecuteTime": {
     "end_time": "2018-10-09T13:47:21.157587Z",
     "start_time": "2018-10-09T13:47:20.908140Z"
<<<<<<< HEAD
    }
=======
    },
    "collapsed": true
>>>>>>> 4fa6f4739464386e829825e16b48c227386d56a7
   },
   "outputs": [],
   "source": [
    "df = pd.read_csv('https://raw.githubusercontent.com/rmcelreath/rethinking/master/data/Howell1.csv', sep=';')\n",
    "df = df[np.logical_and(df.age > 18, df.age < 50)] "
   ]
  },
  {
   "cell_type": "code",
<<<<<<< HEAD
   "execution_count": 26,
=======
   "execution_count": 38,
>>>>>>> 4fa6f4739464386e829825e16b48c227386d56a7
   "metadata": {
    "ExecuteTime": {
     "end_time": "2018-10-09T13:47:21.162107Z",
     "start_time": "2018-10-09T13:47:21.158880Z"
    }
   },
   "outputs": [
    {
     "data": {
      "text/plain": [
       "(249, 4)"
      ]
     },
<<<<<<< HEAD
     "execution_count": 26,
=======
     "execution_count": 38,
>>>>>>> 4fa6f4739464386e829825e16b48c227386d56a7
     "metadata": {},
     "output_type": "execute_result"
    }
   ],
   "source": [
    "df.shape"
   ]
  },
  {
   "cell_type": "code",
<<<<<<< HEAD
   "execution_count": 27,
=======
   "execution_count": 39,
>>>>>>> 4fa6f4739464386e829825e16b48c227386d56a7
   "metadata": {
    "ExecuteTime": {
     "end_time": "2018-10-09T14:54:03.880255Z",
     "start_time": "2018-10-09T14:54:03.869054Z"
<<<<<<< HEAD
    }
=======
    },
    "collapsed": true
>>>>>>> 4fa6f4739464386e829825e16b48c227386d56a7
   },
   "outputs": [],
   "source": [
    "df_train = df.loc[:100]\n",
    "df_test = df.loc[150:180]"
   ]
  },
  {
   "cell_type": "code",
<<<<<<< HEAD
   "execution_count": 28,
=======
   "execution_count": 40,
>>>>>>> 4fa6f4739464386e829825e16b48c227386d56a7
   "metadata": {
    "ExecuteTime": {
     "end_time": "2018-10-09T14:54:04.431081Z",
     "start_time": "2018-10-09T14:54:04.412081Z"
    }
   },
   "outputs": [
    {
     "data": {
      "text/html": [
       "<div>\n",
<<<<<<< HEAD
       "<style scoped>\n",
       "    .dataframe tbody tr th:only-of-type {\n",
       "        vertical-align: middle;\n",
       "    }\n",
       "\n",
       "    .dataframe tbody tr th {\n",
       "        vertical-align: top;\n",
       "    }\n",
       "\n",
       "    .dataframe thead th {\n",
       "        text-align: right;\n",
       "    }\n",
       "</style>\n",
=======
>>>>>>> 4fa6f4739464386e829825e16b48c227386d56a7
       "<table border=\"1\" class=\"dataframe\">\n",
       "  <thead>\n",
       "    <tr style=\"text-align: right;\">\n",
       "      <th></th>\n",
       "      <th>height</th>\n",
       "      <th>weight</th>\n",
       "      <th>age</th>\n",
       "      <th>male</th>\n",
       "    </tr>\n",
       "  </thead>\n",
       "  <tbody>\n",
       "    <tr>\n",
       "      <th>3</th>\n",
       "      <td>156.845</td>\n",
       "      <td>53.041915</td>\n",
       "      <td>41.0</td>\n",
       "      <td>1</td>\n",
       "    </tr>\n",
       "    <tr>\n",
       "      <th>5</th>\n",
       "      <td>163.830</td>\n",
       "      <td>62.992589</td>\n",
       "      <td>35.0</td>\n",
       "      <td>1</td>\n",
       "    </tr>\n",
       "    <tr>\n",
       "      <th>6</th>\n",
       "      <td>149.225</td>\n",
       "      <td>38.243476</td>\n",
       "      <td>32.0</td>\n",
       "      <td>0</td>\n",
       "    </tr>\n",
       "    <tr>\n",
       "      <th>7</th>\n",
       "      <td>168.910</td>\n",
       "      <td>55.479971</td>\n",
       "      <td>27.0</td>\n",
       "      <td>1</td>\n",
       "    </tr>\n",
       "    <tr>\n",
       "      <th>8</th>\n",
       "      <td>147.955</td>\n",
       "      <td>34.869885</td>\n",
       "      <td>19.0</td>\n",
       "      <td>0</td>\n",
       "    </tr>\n",
       "  </tbody>\n",
       "</table>\n",
       "</div>"
      ],
      "text/plain": [
       "    height     weight   age  male\n",
       "3  156.845  53.041915  41.0     1\n",
       "5  163.830  62.992589  35.0     1\n",
       "6  149.225  38.243476  32.0     0\n",
       "7  168.910  55.479971  27.0     1\n",
       "8  147.955  34.869885  19.0     0"
      ]
     },
<<<<<<< HEAD
     "execution_count": 28,
=======
     "execution_count": 40,
>>>>>>> 4fa6f4739464386e829825e16b48c227386d56a7
     "metadata": {},
     "output_type": "execute_result"
    }
   ],
   "source": [
    "df_train.head()"
   ]
  },
  {
   "cell_type": "code",
<<<<<<< HEAD
   "execution_count": 29,
=======
   "execution_count": 41,
>>>>>>> 4fa6f4739464386e829825e16b48c227386d56a7
   "metadata": {
    "ExecuteTime": {
     "end_time": "2018-10-09T14:54:04.997431Z",
     "start_time": "2018-10-09T14:54:04.980610Z"
<<<<<<< HEAD
    }
=======
    },
    "collapsed": true
>>>>>>> 4fa6f4739464386e829825e16b48c227386d56a7
   },
   "outputs": [],
   "source": [
    "def plot(df):\n",
    "    plt.scatter(df.weight[df.male==1], df.height[df.male==1], color = 'blue', label='male');\n",
    "    plt.scatter(df.weight[df.male==0], df.height[df.male==0], color = 'red', label='female');\n",
    "    plt.legend(loc=[1.1, 0.5]);\n",
    "    plt.ylabel('рост');\n",
    "    plt.xlabel('вес');"
   ]
  },
  {
   "cell_type": "code",
<<<<<<< HEAD
   "execution_count": 30,
=======
   "execution_count": 42,
>>>>>>> 4fa6f4739464386e829825e16b48c227386d56a7
   "metadata": {
    "ExecuteTime": {
     "end_time": "2018-10-09T14:54:05.709975Z",
     "start_time": "2018-10-09T14:54:05.437294Z"
    }
   },
   "outputs": [
    {
     "data": {
<<<<<<< HEAD
      "image/png": "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\n",
      "text/plain": [
       "<Figure size 432x288 with 1 Axes>"
=======
      "image/png": "iVBORw0KGgoAAAANSUhEUgAAAe0AAAEKCAYAAAA/9Q3BAAAABHNCSVQICAgIfAhkiAAAAAlwSFlz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\nxgAAAABJRU5ErkJggg==\n",
      "text/plain": [
       "<matplotlib.figure.Figure at 0x10c8b6e10>"
>>>>>>> 4fa6f4739464386e829825e16b48c227386d56a7
      ]
     },
     "metadata": {},
     "output_type": "display_data"
    }
   ],
   "source": [
    "plot(df_train)"
   ]
  },
  {
   "cell_type": "code",
<<<<<<< HEAD
   "execution_count": 31,
=======
   "execution_count": 43,
>>>>>>> 4fa6f4739464386e829825e16b48c227386d56a7
   "metadata": {
    "ExecuteTime": {
     "end_time": "2018-10-09T14:54:07.370512Z",
     "start_time": "2018-10-09T14:54:07.133605Z"
    },
    "scrolled": true
   },
   "outputs": [
    {
     "data": {
<<<<<<< HEAD
      "image/png": "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\n",
      "text/plain": [
       "<Figure size 432x288 with 1 Axes>"
=======
      "image/png": "iVBORw0KGgoAAAANSUhEUgAAAe0AAAEKCAYAAAA/9Q3BAAAABHNCSVQICAgIfAhkiAAAAAlwSFlz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\n/wgSsHOsH24aAAAAAElFTkSuQmCC\n",
      "text/plain": [
       "<matplotlib.figure.Figure at 0x10e9c1ba8>"
>>>>>>> 4fa6f4739464386e829825e16b48c227386d56a7
      ]
     },
     "metadata": {},
     "output_type": "display_data"
    }
   ],
   "source": [
    "plot(df_test)"
   ]
  },
  {
   "cell_type": "code",
<<<<<<< HEAD
   "execution_count": 32,
=======
   "execution_count": 44,
>>>>>>> 4fa6f4739464386e829825e16b48c227386d56a7
   "metadata": {
    "ExecuteTime": {
     "end_time": "2018-10-09T15:19:24.575029Z",
     "start_time": "2018-10-09T15:19:24.334667Z"
    }
   },
   "outputs": [
    {
     "data": {
<<<<<<< HEAD
      "image/png": "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\n",
      "text/plain": [
       "<Figure size 432x288 with 1 Axes>"
=======
      "image/png": "iVBORw0KGgoAAAANSUhEUgAAAe0AAAEKCAYAAAA/9Q3BAAAABHNCSVQICAgIfAhkiAAAAAlwSFlz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\nABARhDYAABHxfxCJ+Po+mvWQAAAAAElFTkSuQmCC\n",
      "text/plain": [
       "<matplotlib.figure.Figure at 0x10bc9eba8>"
>>>>>>> 4fa6f4739464386e829825e16b48c227386d56a7
      ]
     },
     "metadata": {},
     "output_type": "display_data"
    }
   ],
   "source": [
    "plt.scatter(df_test.weight[df_test.male==1], df_test.height[df_test.male==1], color = 'blue', label='male');\n",
    "plt.scatter(df_test.weight[df_test.male==0], df_test.height[df_test.male==0], color = 'red', label='female');\n",
    "\n",
    "plt.scatter(55, 163, color = 'black', marker='x', label='female');\n",
    "c1 = plt.Circle((55, 163), 3, color='r', fill=False)\n",
    "plt.gcf().gca().add_artist(c1)\n",
    "\n",
    "plt.legend(loc=[1.1, 0.5]);\n",
    "plt.ylabel('рост');\n",
    "plt.xlabel('вес');"
   ]
  },
  {
   "cell_type": "markdown",
   "metadata": {},
   "source": [
    "> Заметили почему наша окружность нарисовалась в виде эллипса?"
   ]
  },
  {
   "cell_type": "markdown",
   "metadata": {},
   "source": [
    "##### Напишем свой классификатор который считает N-ближайших соседей - делает предсказание на основании большинства его соседей."
   ]
  },
  {
   "cell_type": "code",
   "execution_count": null,
<<<<<<< HEAD
   "metadata": {},
=======
   "metadata": {
    "collapsed": true
   },
>>>>>>> 4fa6f4739464386e829825e16b48c227386d56a7
   "outputs": [],
   "source": []
  },
  {
   "cell_type": "code",
<<<<<<< HEAD
   "execution_count": 33,
=======
   "execution_count": 45,
>>>>>>> 4fa6f4739464386e829825e16b48c227386d56a7
   "metadata": {
    "ExecuteTime": {
     "end_time": "2018-10-09T15:06:49.292975Z",
     "start_time": "2018-10-09T15:06:49.287780Z"
    }
   },
   "outputs": [
    {
     "data": {
      "text/plain": [
       "array([3, 4, 1, 2, 0])"
      ]
     },
<<<<<<< HEAD
     "execution_count": 33,
=======
     "execution_count": 45,
>>>>>>> 4fa6f4739464386e829825e16b48c227386d56a7
     "metadata": {},
     "output_type": "execute_result"
    }
   ],
   "source": [
    "np.argsort( np.array([5,2,2,0,0]) ) # возвращает индексы элементов так \n",
    "                                    # как если бы элементы были отсортированы в порядке неубывания"
   ]
  },
  {
   "cell_type": "code",
<<<<<<< HEAD
   "execution_count": 34,
=======
   "execution_count": 46,
>>>>>>> 4fa6f4739464386e829825e16b48c227386d56a7
   "metadata": {
    "ExecuteTime": {
     "end_time": "2018-10-09T14:54:09.594584Z",
     "start_time": "2018-10-09T14:54:09.582462Z"
    }
   },
   "outputs": [
    {
     "data": {
      "text/plain": [
       "array([2, 0, 2, 0, 0, 1])"
      ]
     },
<<<<<<< HEAD
     "execution_count": 34,
=======
     "execution_count": 46,
>>>>>>> 4fa6f4739464386e829825e16b48c227386d56a7
     "metadata": {},
     "output_type": "execute_result"
    }
   ],
   "source": [
    "np.bincount( np.array([5,2,2,0,0]) ) # возвращает число вхождений каждого значения\n",
    "                                     # длина массива - на один больше макс. значения"
   ]
  },
  {
   "cell_type": "code",
<<<<<<< HEAD
   "execution_count": 35,
=======
   "execution_count": 77,
>>>>>>> 4fa6f4739464386e829825e16b48c227386d56a7
   "metadata": {},
   "outputs": [
    {
     "data": {
      "text/plain": [
       "2"
      ]
     },
<<<<<<< HEAD
     "execution_count": 35,
=======
     "execution_count": 77,
>>>>>>> 4fa6f4739464386e829825e16b48c227386d56a7
     "metadata": {},
     "output_type": "execute_result"
    }
   ],
   "source": [
    "np.argmax( [1, 2, 200, 5, 2] )       # вернет позицию на которой стоит максимальный элемент"
   ]
  },
  {
   "cell_type": "code",
   "execution_count": null,
<<<<<<< HEAD
   "metadata": {},
=======
   "metadata": {
    "collapsed": true
   },
>>>>>>> 4fa6f4739464386e829825e16b48c227386d56a7
   "outputs": [],
   "source": []
  },
  {
   "cell_type": "code",
   "execution_count": null,
<<<<<<< HEAD
   "metadata": {},
=======
   "metadata": {
    "collapsed": true
   },
>>>>>>> 4fa6f4739464386e829825e16b48c227386d56a7
   "outputs": [],
   "source": []
  },
  {
   "cell_type": "code",
   "execution_count": null,
<<<<<<< HEAD
   "metadata": {},
=======
   "metadata": {
    "collapsed": true
   },
>>>>>>> 4fa6f4739464386e829825e16b48c227386d56a7
   "outputs": [],
   "source": []
  },
  {
   "cell_type": "code",
<<<<<<< HEAD
   "execution_count": 36,
=======
   "execution_count": 47,
>>>>>>> 4fa6f4739464386e829825e16b48c227386d56a7
   "metadata": {
    "ExecuteTime": {
     "end_time": "2018-10-09T15:45:33.611581Z",
     "start_time": "2018-10-09T15:45:33.604872Z"
<<<<<<< HEAD
    }
=======
    },
    "collapsed": true
>>>>>>> 4fa6f4739464386e829825e16b48c227386d56a7
   },
   "outputs": [],
   "source": [
    "X_train = df_train[['height', 'weight']].values\n",
    "y_train = df_train['male'].values\n",
    "\n",
    "X_test = df_test[['height', 'weight']].values"
   ]
  },
  {
   "cell_type": "code",
<<<<<<< HEAD
   "execution_count": 37,
=======
   "execution_count": 48,
>>>>>>> 4fa6f4739464386e829825e16b48c227386d56a7
   "metadata": {
    "ExecuteTime": {
     "end_time": "2018-10-09T15:45:34.047247Z",
     "start_time": "2018-10-09T15:45:34.040091Z"
<<<<<<< HEAD
    }
=======
    },
    "collapsed": true
>>>>>>> 4fa6f4739464386e829825e16b48c227386d56a7
   },
   "outputs": [
    {
     "data": {
      "text/plain": [
<<<<<<< HEAD
       "array([[156.845    ,  53.0419145],\n",
       "       [163.83     ,  62.992589 ],\n",
       "       [149.225    ,  38.2434755],\n",
       "       [168.91     ,  55.4799715],\n",
       "       [147.955    ,  34.869885 ],\n",
       "       [154.305    ,  49.89512  ],\n",
       "       [149.9      ,  47.7      ],\n",
       "       [163.195    ,  48.5626935],\n",
       "       [157.48     ,  42.3258035],\n",
       "       [143.9418   ,  38.3568735],\n",
       "       [161.29     ,  48.987936 ],\n",
       "       [156.21     ,  42.7226965],\n",
       "       [148.59     ,  37.9032815],\n",
       "       [147.32     ,  35.4652245],\n",
       "       [147.955    ,  40.312989 ],\n",
       "       [161.925    ,  55.111428 ],\n",
       "       [146.05     ,  37.5063885],\n",
       "       [146.05     ,  38.498621 ],\n",
       "       [152.7048   ,  46.606578 ],\n",
       "       [142.875    ,  38.838815 ],\n",
       "       [142.875    ,  35.5786225],\n",
       "       [147.955    ,  47.400364 ],\n",
       "       [160.655    ,  47.8823055],\n",
       "       [151.765    ,  49.4131785],\n",
       "       [162.8648   ,  49.384829 ],\n",
       "       [147.32     ,  39.12231  ],\n",
       "       [147.955    ,  49.89512  ],\n",
       "       [143.51     ,  38.55532  ],\n",
       "       [146.7      ,  42.4      ],\n",
       "       [165.735    ,  58.5984165],\n",
       "       [152.4      ,  46.719976 ],\n",
       "       [158.8      ,  50.9      ],\n",
       "       [155.575    ,  54.317642 ],\n",
       "       [161.29     ,  52.219779 ],\n",
       "       [154.305    ,  47.62716  ],\n",
       "       [145.415    ,  45.642695 ],\n",
       "       [163.83     ,  55.9335635],\n",
       "       [144.145    ,  37.194544 ],\n",
       "       [153.67     ,  48.307548 ],\n",
       "       [142.875    ,  37.3362915],\n",
       "       [167.005    ,  47.173568 ],\n",
       "       [158.4198   ,  47.286966 ],\n",
       "       [149.86     ,  37.931631 ],\n",
       "       [154.94     ,  47.2019175],\n",
       "       [160.9598   ,  43.204638 ],\n",
       "       [161.925    ,  50.2636635],\n",
       "       [147.955    ,  39.3774555],\n",
       "       [159.385    ,  50.689    ],\n",
       "       [148.59     ,  39.4341545],\n",
       "       [158.115    ,  46.266384 ],\n",
       "       [156.845    ,  47.62716  ],\n",
       "       [179.07     ,  55.7067675],\n",
       "       [170.18     ,  48.5626935],\n",
       "       [146.05     ,  42.807745 ],\n",
       "       [147.32     ,  35.0683315],\n",
       "       [162.56     ,  56.755699 ]])"
      ]
     },
     "execution_count": 37,
=======
       "array([[ 156.845    ,   53.0419145],\n",
       "       [ 163.83     ,   62.992589 ],\n",
       "       [ 149.225    ,   38.2434755],\n",
       "       [ 168.91     ,   55.4799715],\n",
       "       [ 147.955    ,   34.869885 ],\n",
       "       [ 154.305    ,   49.89512  ],\n",
       "       [ 149.9      ,   47.7      ],\n",
       "       [ 163.195    ,   48.5626935],\n",
       "       [ 157.48     ,   42.3258035],\n",
       "       [ 143.9418   ,   38.3568735],\n",
       "       [ 161.29     ,   48.987936 ],\n",
       "       [ 156.21     ,   42.7226965],\n",
       "       [ 148.59     ,   37.9032815],\n",
       "       [ 147.32     ,   35.4652245],\n",
       "       [ 147.955    ,   40.312989 ],\n",
       "       [ 161.925    ,   55.111428 ],\n",
       "       [ 146.05     ,   37.5063885],\n",
       "       [ 146.05     ,   38.498621 ],\n",
       "       [ 152.7048   ,   46.606578 ],\n",
       "       [ 142.875    ,   38.838815 ],\n",
       "       [ 142.875    ,   35.5786225],\n",
       "       [ 147.955    ,   47.400364 ],\n",
       "       [ 160.655    ,   47.8823055],\n",
       "       [ 151.765    ,   49.4131785],\n",
       "       [ 162.8648   ,   49.384829 ],\n",
       "       [ 147.32     ,   39.12231  ],\n",
       "       [ 147.955    ,   49.89512  ],\n",
       "       [ 143.51     ,   38.55532  ],\n",
       "       [ 146.7      ,   42.4      ],\n",
       "       [ 165.735    ,   58.5984165],\n",
       "       [ 152.4      ,   46.719976 ],\n",
       "       [ 158.8      ,   50.9      ],\n",
       "       [ 155.575    ,   54.317642 ],\n",
       "       [ 161.29     ,   52.219779 ],\n",
       "       [ 154.305    ,   47.62716  ],\n",
       "       [ 145.415    ,   45.642695 ],\n",
       "       [ 163.83     ,   55.9335635],\n",
       "       [ 144.145    ,   37.194544 ],\n",
       "       [ 153.67     ,   48.307548 ],\n",
       "       [ 142.875    ,   37.3362915],\n",
       "       [ 167.005    ,   47.173568 ],\n",
       "       [ 158.4198   ,   47.286966 ],\n",
       "       [ 149.86     ,   37.931631 ],\n",
       "       [ 154.94     ,   47.2019175],\n",
       "       [ 160.9598   ,   43.204638 ],\n",
       "       [ 161.925    ,   50.2636635],\n",
       "       [ 147.955    ,   39.3774555],\n",
       "       [ 159.385    ,   50.689    ],\n",
       "       [ 148.59     ,   39.4341545],\n",
       "       [ 158.115    ,   46.266384 ],\n",
       "       [ 156.845    ,   47.62716  ],\n",
       "       [ 179.07     ,   55.7067675],\n",
       "       [ 170.18     ,   48.5626935],\n",
       "       [ 146.05     ,   42.807745 ],\n",
       "       [ 147.32     ,   35.0683315],\n",
       "       [ 162.56     ,   56.755699 ]])"
      ]
     },
     "execution_count": 48,
>>>>>>> 4fa6f4739464386e829825e16b48c227386d56a7
     "metadata": {},
     "output_type": "execute_result"
    }
   ],
   "source": [
    "X_train"
   ]
  },
  {
   "cell_type": "code",
<<<<<<< HEAD
   "execution_count": 38,
=======
   "execution_count": 49,
>>>>>>> 4fa6f4739464386e829825e16b48c227386d56a7
   "metadata": {
    "ExecuteTime": {
     "end_time": "2018-10-09T15:45:34.575759Z",
     "start_time": "2018-10-09T15:45:34.569247Z"
    }
   },
   "outputs": [
    {
     "data": {
      "text/plain": [
<<<<<<< HEAD
       "array([1, 1, 0, 1, 0, 0, 0, 1, 1, 0, 1, 0, 0, 0, 1, 1, 0, 0, 0, 0, 0, 0,\n",
       "       1, 1, 1, 0, 0, 0, 1, 1, 0, 0, 0, 1, 0, 0, 1, 0, 1, 0, 1, 0, 0, 0,\n",
       "       1, 1, 0, 1, 0, 1, 1, 1, 1, 0, 0, 0])"
      ]
     },
     "execution_count": 38,
=======
       "array([1, 1, 0, 1, 0, 0, 0, 1, 1, 0, 1, 0, 0, 0, 1, 1, 0, 0, 0, 0, 0, 0, 1,\n",
       "       1, 1, 0, 0, 0, 1, 1, 0, 0, 0, 1, 0, 0, 1, 0, 1, 0, 1, 0, 0, 0, 1, 1,\n",
       "       0, 1, 0, 1, 1, 1, 1, 0, 0, 0])"
      ]
     },
     "execution_count": 49,
>>>>>>> 4fa6f4739464386e829825e16b48c227386d56a7
     "metadata": {},
     "output_type": "execute_result"
    }
   ],
   "source": [
    "y_train"
   ]
  },
  {
   "cell_type": "markdown",
   "metadata": {},
   "source": [
    "##### Помните про эллипс?"
   ]
  },
  {
   "cell_type": "code",
<<<<<<< HEAD
   "execution_count": 39,
=======
   "execution_count": 50,
>>>>>>> 4fa6f4739464386e829825e16b48c227386d56a7
   "metadata": {
    "ExecuteTime": {
     "end_time": "2018-10-09T15:45:37.422940Z",
     "start_time": "2018-10-09T15:45:37.418037Z"
<<<<<<< HEAD
    }
=======
    },
    "collapsed": true
>>>>>>> 4fa6f4739464386e829825e16b48c227386d56a7
   },
   "outputs": [],
   "source": [
    "a = X_test[0]\n",
    "b = X_test[6]"
   ]
  },
  {
   "cell_type": "code",
<<<<<<< HEAD
   "execution_count": 40,
=======
   "execution_count": 51,
>>>>>>> 4fa6f4739464386e829825e16b48c227386d56a7
   "metadata": {
    "ExecuteTime": {
     "end_time": "2018-10-09T15:45:37.662850Z",
     "start_time": "2018-10-09T15:45:37.658271Z"
    }
   },
   "outputs": [
    {
     "data": {
      "text/plain": [
       "array([ 4.445    , -5.5848515])"
      ]
     },
<<<<<<< HEAD
     "execution_count": 40,
=======
     "execution_count": 51,
>>>>>>> 4fa6f4739464386e829825e16b48c227386d56a7
     "metadata": {},
     "output_type": "execute_result"
    }
   ],
   "source": [
    "a - b"
   ]
  },
  {
   "cell_type": "code",
<<<<<<< HEAD
   "execution_count": 41,
=======
   "execution_count": 52,
>>>>>>> 4fa6f4739464386e829825e16b48c227386d56a7
   "metadata": {
    "ExecuteTime": {
     "end_time": "2018-10-09T15:45:38.154091Z",
     "start_time": "2018-10-09T15:45:38.148442Z"
    }
   },
   "outputs": [
    {
     "data": {
      "text/plain": [
<<<<<<< HEAD
       "7.137828190496895"
      ]
     },
     "execution_count": 41,
=======
       "7.1378281904968954"
      ]
     },
     "execution_count": 52,
>>>>>>> 4fa6f4739464386e829825e16b48c227386d56a7
     "metadata": {},
     "output_type": "execute_result"
    }
   ],
   "source": [
    "np.sqrt(np.sum((a - b) ** 2))"
   ]
  },
  {
   "cell_type": "markdown",
   "metadata": {},
   "source": [
    "##### Задумаемся! А если рост у нас не в сантиметрах, а в миллиметрах?"
   ]
  },
  {
   "cell_type": "code",
<<<<<<< HEAD
   "execution_count": 42,
=======
   "execution_count": 53,
>>>>>>> 4fa6f4739464386e829825e16b48c227386d56a7
   "metadata": {
    "ExecuteTime": {
     "end_time": "2018-10-09T15:45:39.432103Z",
     "start_time": "2018-10-09T15:45:39.429347Z"
    }
   },
   "outputs": [],
   "source": [
    "a[0] *= 10\n",
    "b[0] *= 10"
   ]
  },
  {
   "cell_type": "code",
<<<<<<< HEAD
   "execution_count": 43,
=======
   "execution_count": 54,
>>>>>>> 4fa6f4739464386e829825e16b48c227386d56a7
   "metadata": {
    "ExecuteTime": {
     "end_time": "2018-10-09T15:45:39.965528Z",
     "start_time": "2018-10-09T15:45:39.957096Z"
    }
   },
   "outputs": [
    {
     "data": {
      "text/plain": [
<<<<<<< HEAD
       "array([44.45     , -5.5848515])"
      ]
     },
     "execution_count": 43,
=======
       "array([ 44.45     ,  -5.5848515])"
      ]
     },
     "execution_count": 54,
>>>>>>> 4fa6f4739464386e829825e16b48c227386d56a7
     "metadata": {},
     "output_type": "execute_result"
    }
   ],
   "source": [
    "a - b"
   ]
  },
  {
   "cell_type": "code",
<<<<<<< HEAD
   "execution_count": 44,
=======
   "execution_count": 55,
>>>>>>> 4fa6f4739464386e829825e16b48c227386d56a7
   "metadata": {
    "ExecuteTime": {
     "end_time": "2018-10-09T15:45:40.444162Z",
     "start_time": "2018-10-09T15:45:40.437705Z"
    }
   },
   "outputs": [
    {
     "data": {
      "text/plain": [
       "44.799476183065536"
      ]
     },
<<<<<<< HEAD
     "execution_count": 44,
=======
     "execution_count": 55,
>>>>>>> 4fa6f4739464386e829825e16b48c227386d56a7
     "metadata": {},
     "output_type": "execute_result"
    }
   ],
   "source": [
    "np.sqrt(np.sum((a - b) ** 2))"
   ]
  },
  {
   "cell_type": "markdown",
   "metadata": {},
   "source": [
    "##### т.е. Мы почти проигнорили что у нас отличается вес на 5 килограммов и из-за особенности евклидова расстояния (квадрата) мы смотрели на большие значения !"
   ]
  },
  {
   "cell_type": "code",
   "execution_count": null,
<<<<<<< HEAD
   "metadata": {},
=======
   "metadata": {
    "collapsed": true
   },
>>>>>>> 4fa6f4739464386e829825e16b48c227386d56a7
   "outputs": [],
   "source": []
  },
  {
   "cell_type": "code",
   "execution_count": null,
<<<<<<< HEAD
   "metadata": {},
=======
   "metadata": {
    "collapsed": true
   },
>>>>>>> 4fa6f4739464386e829825e16b48c227386d56a7
   "outputs": [],
   "source": []
  },
  {
   "cell_type": "code",
   "execution_count": null,
   "metadata": {
    "collapsed": true
   },
   "outputs": [],
   "source": []
  },
  {
   "cell_type": "code",
   "execution_count": null,
   "metadata": {
    "collapsed": true
   },
   "outputs": [],
   "source": []
  },
  {
   "cell_type": "code",
   "execution_count": null,
   "metadata": {
    "collapsed": true
   },
   "outputs": [],
   "source": []
  },
  {
   "cell_type": "code",
   "execution_count": null,
   "metadata": {
    "collapsed": true
   },
   "outputs": [],
   "source": []
  },
  {
   "cell_type": "code",
   "execution_count": null,
   "metadata": {
    "collapsed": true
   },
   "outputs": [],
   "source": []
  },
  {
   "cell_type": "code",
   "execution_count": null,
   "metadata": {
    "collapsed": true
   },
   "outputs": [],
   "source": []
  },
  {
   "cell_type": "code",
   "execution_count": null,
   "metadata": {
    "collapsed": true
   },
   "outputs": [],
   "source": []
  },
  {
   "cell_type": "code",
   "execution_count": null,
   "metadata": {
    "collapsed": true
   },
   "outputs": [],
   "source": []
  },
  {
   "cell_type": "code",
   "execution_count": null,
   "metadata": {
    "collapsed": true
   },
   "outputs": [],
   "source": []
  },
  {
   "cell_type": "code",
   "execution_count": null,
   "metadata": {
    "collapsed": true
   },
   "outputs": [],
   "source": []
  },
  {
   "cell_type": "code",
<<<<<<< HEAD
   "execution_count": 45,
=======
   "execution_count": 56,
>>>>>>> 4fa6f4739464386e829825e16b48c227386d56a7
   "metadata": {
    "scrolled": true
   },
   "outputs": [
    {
     "data": {
      "text/plain": [
<<<<<<< HEAD
       "Text(0.5,0,'разность')"
      ]
     },
     "execution_count": 45,
=======
       "<matplotlib.text.Text at 0x107e82828>"
      ]
     },
     "execution_count": 56,
>>>>>>> 4fa6f4739464386e829825e16b48c227386d56a7
     "metadata": {},
     "output_type": "execute_result"
    },
    {
     "data": {
<<<<<<< HEAD
      "image/png": "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\n",
      "text/plain": [
       "<Figure size 432x288 with 1 Axes>"
=======
      "image/png": "iVBORw0KGgoAAAANSUhEUgAAAYIAAAEKCAYAAAAfGVI8AAAABHNCSVQICAgIfAhkiAAAAAlwSFlz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\nhLn/B8DjZZDS1y13AAAAAElFTkSuQmCC\n",
      "text/plain": [
       "<matplotlib.figure.Figure at 0x10bc9eb38>"
>>>>>>> 4fa6f4739464386e829825e16b48c227386d56a7
      ]
     },
     "metadata": {},
     "output_type": "display_data"
    }
   ],
   "source": [
    "plt.plot([i for i in range(-40, 40)], [np.abs(i) for i in range(-40, 40)])\n",
    "plt.ylabel('расстояние')\n",
    "plt.xlabel('разность')"
   ]
  },
  {
   "cell_type": "code",
<<<<<<< HEAD
   "execution_count": 46,
=======
   "execution_count": 57,
>>>>>>> 4fa6f4739464386e829825e16b48c227386d56a7
   "metadata": {
    "scrolled": true
   },
   "outputs": [
    {
     "data": {
      "text/plain": [
<<<<<<< HEAD
       "Text(0.5,0,'разность')"
      ]
     },
     "execution_count": 46,
=======
       "<matplotlib.text.Text at 0x10eaab128>"
      ]
     },
     "execution_count": 57,
>>>>>>> 4fa6f4739464386e829825e16b48c227386d56a7
     "metadata": {},
     "output_type": "execute_result"
    },
    {
     "data": {
<<<<<<< HEAD
      "image/png": "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\n",
      "text/plain": [
       "<Figure size 432x288 with 1 Axes>"
=======
      "image/png": "iVBORw0KGgoAAAANSUhEUgAAAY4AAAEKCAYAAAAFJbKyAAAABHNCSVQICAgIfAhkiAAAAAlwSFlz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\n6sUKhzHGmHr5f6TFf7rN0GYYAAAAAElFTkSuQmCC\n",
      "text/plain": [
       "<matplotlib.figure.Figure at 0x10befd128>"
>>>>>>> 4fa6f4739464386e829825e16b48c227386d56a7
      ]
     },
     "metadata": {},
     "output_type": "display_data"
    }
   ],
   "source": [
    "plt.plot([i for i in range(-40, 40)], [i ** 2 for i in range(-40, 40)])\n",
    "plt.plot([i for i in range(-40, 40)], [np.abs(i) for i in range(-40, 40)])\n",
    "plt.ylabel('расстояние')\n",
    "plt.xlabel('разность')"
   ]
  },
  {
   "cell_type": "raw",
   "metadata": {},
   "source": [
    "имею в виду\n",
    "\n",
    "a - b   # разность\n",
    "\n",
    "np.sum((a - b) ** 2) # расстояние"
   ]
  },
  {
   "cell_type": "markdown",
   "metadata": {},
   "source": [
    "_________"
   ]
  },
  {
   "cell_type": "code",
   "execution_count": null,
<<<<<<< HEAD
   "metadata": {},
=======
   "metadata": {
    "collapsed": true
   },
>>>>>>> 4fa6f4739464386e829825e16b48c227386d56a7
   "outputs": [],
   "source": []
  },
  {
   "cell_type": "code",
   "execution_count": null,
<<<<<<< HEAD
   "metadata": {},
=======
   "metadata": {
    "collapsed": true
   },
>>>>>>> 4fa6f4739464386e829825e16b48c227386d56a7
   "outputs": [],
   "source": []
  },
  {
   "cell_type": "code",
   "execution_count": null,
<<<<<<< HEAD
   "metadata": {},
=======
   "metadata": {
    "collapsed": true
   },
>>>>>>> 4fa6f4739464386e829825e16b48c227386d56a7
   "outputs": [],
   "source": []
  },
  {
   "cell_type": "code",
   "execution_count": null,
<<<<<<< HEAD
   "metadata": {},
=======
   "metadata": {
    "collapsed": true
   },
>>>>>>> 4fa6f4739464386e829825e16b48c227386d56a7
   "outputs": [],
   "source": []
  },
  {
   "cell_type": "code",
   "execution_count": null,
<<<<<<< HEAD
   "metadata": {},
=======
   "metadata": {
    "collapsed": true
   },
>>>>>>> 4fa6f4739464386e829825e16b48c227386d56a7
   "outputs": [],
   "source": []
  },
  {
   "cell_type": "code",
   "execution_count": null,
<<<<<<< HEAD
   "metadata": {},
=======
   "metadata": {
    "collapsed": true
   },
>>>>>>> 4fa6f4739464386e829825e16b48c227386d56a7
   "outputs": [],
   "source": []
  },
  {
   "cell_type": "code",
   "execution_count": null,
<<<<<<< HEAD
   "metadata": {},
=======
   "metadata": {
    "collapsed": true
   },
>>>>>>> 4fa6f4739464386e829825e16b48c227386d56a7
   "outputs": [],
   "source": []
  },
  {
   "cell_type": "raw",
   "metadata": {},
   "source": [
    "# Мы хотим использовать метрический метод - а оси у нас разной природы. Что делать?\n",
    "\n",
    "- стандартизация\n",
    "- мин-макс скейлинг\n"
   ]
  },
  {
   "cell_type": "code",
   "execution_count": null,
<<<<<<< HEAD
   "metadata": {},
=======
   "metadata": {
    "collapsed": true
   },
>>>>>>> 4fa6f4739464386e829825e16b48c227386d56a7
   "outputs": [],
   "source": []
  },
  {
   "cell_type": "code",
<<<<<<< HEAD
   "execution_count": 47,
   "metadata": {},
=======
   "execution_count": 58,
   "metadata": {
    "collapsed": true
   },
>>>>>>> 4fa6f4739464386e829825e16b48c227386d56a7
   "outputs": [],
   "source": [
    "# стандартизуем\n",
    "\n",
    "mean_ = X_train.mean(axis=0)\n",
    "std_ = X_train.std(axis=0)\n",
    "\n",
    "X_train = (X_train - mean_) / std_\n",
    "X_test = (X_test - mean_) / std_"
   ]
  },
  {
   "cell_type": "raw",
   "metadata": {
    "ExecuteTime": {
     "end_time": "2018-10-09T15:26:23.011107Z",
     "start_time": "2018-10-09T15:26:22.994173Z"
    }
   },
   "source": [
    "# отшкалируем\n",
    "\n",
    "max_ = X_train.max(axis=0)\n",
    "min_ = X_train.min(axis=0)\n",
    "\n",
    "X_train = (X_train - min_) / (max_ - min_)\n",
    "X_test = (X_test - min_) / (max_ - min_)"
   ]
  },
  {
   "cell_type": "code",
<<<<<<< HEAD
   "execution_count": 48,
=======
   "execution_count": 59,
>>>>>>> 4fa6f4739464386e829825e16b48c227386d56a7
   "metadata": {
    "ExecuteTime": {
     "end_time": "2018-10-09T15:26:25.901988Z",
     "start_time": "2018-10-09T15:26:25.863859Z"
    }
   },
   "outputs": [
    {
     "data": {
      "text/plain": [
<<<<<<< HEAD
       "array([[ 1.70192413e+02,  3.07415824e-01],\n",
       "       [ 1.54708469e+00,  1.39138484e+00],\n",
       "       [-1.41023993e+00, -1.88563345e+00],\n",
       "       [-2.42874946e-01, -7.22145478e-01],\n",
       "       [ 6.88565880e-01,  8.01388978e-01],\n",
       "       [ 6.13192708e-01,  4.83194582e-01],\n",
       "       [ 1.64744709e+02,  1.13190191e+00],\n",
       "       [ 7.68841372e-01,  1.22816170e+00],\n",
       "       [ 7.68841372e-01,  1.41649609e+00],\n",
       "       [-6.31996607e-01, -5.21255468e-01],\n",
       "       [ 6.84223825e-02,  5.79454379e-01],\n",
       "       [-1.56588859e+00, -2.11550036e-01],\n",
       "       [-5.16816596e-01, -5.63107553e-01],\n",
       "       [ 1.46246715e-01,  8.43122517e-01],\n",
       "       [ 2.24071047e-01, -2.45031704e-01],\n",
       "       [-5.54172275e-01,  1.01890128e+00],\n",
       "       [ 6.13192708e-01,  4.53898123e-01],\n",
       "       [ 9.24490037e-01,  1.65086777e+00],\n",
       "       [ 1.46246715e-01, -5.42181511e-01]])"
      ]
     },
     "execution_count": 48,
=======
       "array([[  1.70192413e+02,   3.07415824e-01],\n",
       "       [  1.54708469e+00,   1.39138484e+00],\n",
       "       [ -1.41023993e+00,  -1.88563345e+00],\n",
       "       [ -2.42874946e-01,  -7.22145478e-01],\n",
       "       [  6.88565880e-01,   8.01388978e-01],\n",
       "       [  6.13192708e-01,   4.83194582e-01],\n",
       "       [  1.64744709e+02,   1.13190191e+00],\n",
       "       [  7.68841372e-01,   1.22816170e+00],\n",
       "       [  7.68841372e-01,   1.41649609e+00],\n",
       "       [ -6.31996607e-01,  -5.21255468e-01],\n",
       "       [  6.84223825e-02,   5.79454379e-01],\n",
       "       [ -1.56588859e+00,  -2.11550036e-01],\n",
       "       [ -5.16816596e-01,  -5.63107553e-01],\n",
       "       [  1.46246715e-01,   8.43122517e-01],\n",
       "       [  2.24071047e-01,  -2.45031704e-01],\n",
       "       [ -5.54172275e-01,   1.01890128e+00],\n",
       "       [  6.13192708e-01,   4.53898123e-01],\n",
       "       [  9.24490037e-01,   1.65086777e+00],\n",
       "       [  1.46246715e-01,  -5.42181511e-01]])"
      ]
     },
     "execution_count": 59,
>>>>>>> 4fa6f4739464386e829825e16b48c227386d56a7
     "metadata": {},
     "output_type": "execute_result"
    }
   ],
   "source": [
    "X_test"
   ]
  },
  {
   "cell_type": "markdown",
   "metadata": {},
   "source": [
    "________"
   ]
  },
  {
   "cell_type": "code",
<<<<<<< HEAD
   "execution_count": 56,
=======
   "execution_count": 60,
>>>>>>> 4fa6f4739464386e829825e16b48c227386d56a7
   "metadata": {
    "ExecuteTime": {
     "end_time": "2018-10-09T15:26:29.062476Z",
     "start_time": "2018-10-09T15:26:29.028897Z"
<<<<<<< HEAD
    }
=======
    },
    "collapsed": true
>>>>>>> 4fa6f4739464386e829825e16b48c227386d56a7
   },
   "outputs": [],
   "source": [
    "class KNN:\n",
    "    \"\"\"\n",
    "    simple KNN classifier\n",
    "    \"\"\"\n",
    "    \n",
    "    def __init__(self, n):\n",
    "        self.n = n\n",
    "        \n",
    "    def fit(self, X, y):\n",
    "        self.X = X\n",
    "        self.y = y\n",
    "    \n",
    "    def predict(self, X):\n",
    "        y = []\n",
    "        assert len(X.shape) == 2\n",
    "        for (h, w) in X:\n",
    "            ### Посчитаем расстояние от всех элементов в тренировочной выборке\n",
    "            # до текущего примера -> результат - вектор размерности трейна\n",
<<<<<<< HEAD
    "            d = np.sqrt( (self.X[:, 0] - h) ** 2 + (self.X[:, 1] - w) ** 2)\n",
    "            ### Возьмем индексы n элементов, расстояние до которых минимально\n",
    "            ### результат -> вектор из n элементов\n",
    "            idx = np.argsort(d)[:, self.n]\n",
    "            ### Посчитаем частоту меток для каждого случая \n",
    "            ### результат -> вектор длинны 2 который покажет\n",
    "            ### сколько соседей 0-го класса, сколько соседей 1-го класса.\n",
    "            counts = np.bincount( self.y[idx] )\n",
    "            ### возьмем самый часто встречаемый в соседях класс.\n",
    "            prediction = np.argmax(counts)\n",
=======
    "            d = pass\n",
    "            ### Возьмем индексы n элементов, расстояние до которых минимально\n",
    "            ### результат -> вектор из n элементов\n",
    "            idx = pass\n",
    "            ### Посчитаем частоту меток для каждого случая \n",
    "            ### результат -> вектор длинны 2 который покажет\n",
    "            ### сколько соседей 0-го класса, сколько соседей 1-го класса.\n",
    "            counts = pass\n",
    "            ### возьмем самый часто встречаемый в соседях класс.\n",
    "            prediction = pass\n",
>>>>>>> 4fa6f4739464386e829825e16b48c227386d56a7
    "            y.append(prediction)\n",
    "        return y"
   ]
  },
  {
   "cell_type": "code",
   "execution_count": null,
<<<<<<< HEAD
   "metadata": {},
=======
   "metadata": {
    "collapsed": true
   },
>>>>>>> 4fa6f4739464386e829825e16b48c227386d56a7
   "outputs": [],
   "source": []
  },
  {
   "cell_type": "code",
<<<<<<< HEAD
   "execution_count": 57,
=======
   "execution_count": 71,
>>>>>>> 4fa6f4739464386e829825e16b48c227386d56a7
   "metadata": {
    "ExecuteTime": {
     "end_time": "2018-10-09T15:26:29.946599Z",
     "start_time": "2018-10-09T15:26:29.944162Z"
<<<<<<< HEAD
    }
=======
    },
    "collapsed": true
>>>>>>> 4fa6f4739464386e829825e16b48c227386d56a7
   },
   "outputs": [],
   "source": [
    "knn = KNN(8)"
   ]
  },
  {
   "cell_type": "markdown",
   "metadata": {},
   "source": [
    "_______"
   ]
  },
  {
   "cell_type": "code",
<<<<<<< HEAD
   "execution_count": 51,
=======
   "execution_count": 72,
>>>>>>> 4fa6f4739464386e829825e16b48c227386d56a7
   "metadata": {
    "ExecuteTime": {
     "end_time": "2018-10-09T15:26:30.914971Z",
     "start_time": "2018-10-09T15:26:30.907683Z"
<<<<<<< HEAD
    }
   },
   "outputs": [
    {
     "ename": "NameError",
     "evalue": "name 'knn' is not defined",
     "output_type": "error",
     "traceback": [
      "\u001b[0;31m---------------------------------------------------------------------------\u001b[0m",
      "\u001b[0;31mNameError\u001b[0m                                 Traceback (most recent call last)",
      "\u001b[0;32m<ipython-input-51-144fd69ce732>\u001b[0m in \u001b[0;36m<module>\u001b[0;34m()\u001b[0m\n\u001b[0;32m----> 1\u001b[0;31m \u001b[0mknn\u001b[0m\u001b[0;34m.\u001b[0m\u001b[0mfit\u001b[0m\u001b[0;34m(\u001b[0m\u001b[0mX_train\u001b[0m\u001b[0;34m,\u001b[0m \u001b[0my_train\u001b[0m\u001b[0;34m)\u001b[0m\u001b[0;34m\u001b[0m\u001b[0m\n\u001b[0m",
      "\u001b[0;31mNameError\u001b[0m: name 'knn' is not defined"
     ]
    }
   ],
=======
    },
    "collapsed": true
   },
   "outputs": [],
>>>>>>> 4fa6f4739464386e829825e16b48c227386d56a7
   "source": [
    "knn.fit(X_train, y_train)"
   ]
  },
  {
   "cell_type": "code",
<<<<<<< HEAD
   "execution_count": 52,
=======
   "execution_count": 73,
>>>>>>> 4fa6f4739464386e829825e16b48c227386d56a7
   "metadata": {
    "ExecuteTime": {
     "end_time": "2018-10-09T15:26:31.086531Z",
     "start_time": "2018-10-09T15:26:31.083171Z"
<<<<<<< HEAD
    }
   },
   "outputs": [
    {
     "ename": "NameError",
     "evalue": "name 'knn' is not defined",
     "output_type": "error",
     "traceback": [
      "\u001b[0;31m---------------------------------------------------------------------------\u001b[0m",
      "\u001b[0;31mNameError\u001b[0m                                 Traceback (most recent call last)",
      "\u001b[0;32m<ipython-input-52-08dc72747141>\u001b[0m in \u001b[0;36m<module>\u001b[0;34m()\u001b[0m\n\u001b[0;32m----> 1\u001b[0;31m \u001b[0my_pred\u001b[0m \u001b[0;34m=\u001b[0m \u001b[0mknn\u001b[0m\u001b[0;34m.\u001b[0m\u001b[0mpredict\u001b[0m\u001b[0;34m(\u001b[0m\u001b[0mX_test\u001b[0m\u001b[0;34m)\u001b[0m\u001b[0;34m\u001b[0m\u001b[0m\n\u001b[0m",
      "\u001b[0;31mNameError\u001b[0m: name 'knn' is not defined"
     ]
    }
   ],
=======
    },
    "collapsed": true
   },
   "outputs": [],
>>>>>>> 4fa6f4739464386e829825e16b48c227386d56a7
   "source": [
    "y_pred = knn.predict(X_test)"
   ]
  },
  {
   "cell_type": "code",
<<<<<<< HEAD
   "execution_count": 53,
=======
   "execution_count": 74,
>>>>>>> 4fa6f4739464386e829825e16b48c227386d56a7
   "metadata": {
    "ExecuteTime": {
     "end_time": "2018-10-09T15:35:44.714816Z",
     "start_time": "2018-10-09T15:35:44.704200Z"
    }
   },
   "outputs": [
    {
<<<<<<< HEAD
     "ename": "NameError",
     "evalue": "name 'y_pred' is not defined",
     "output_type": "error",
     "traceback": [
      "\u001b[0;31m---------------------------------------------------------------------------\u001b[0m",
      "\u001b[0;31mNameError\u001b[0m                                 Traceback (most recent call last)",
      "\u001b[0;32m<ipython-input-53-6ae7b8842f1c>\u001b[0m in \u001b[0;36m<module>\u001b[0;34m()\u001b[0m\n\u001b[0;32m----> 1\u001b[0;31m \u001b[0;34m'acc = %f'\u001b[0m \u001b[0;34m%\u001b[0m \u001b[0mnp\u001b[0m\u001b[0;34m.\u001b[0m\u001b[0mmean\u001b[0m\u001b[0;34m(\u001b[0m\u001b[0my_pred\u001b[0m \u001b[0;34m==\u001b[0m \u001b[0mdf_test\u001b[0m\u001b[0;34m[\u001b[0m\u001b[0;34m'male'\u001b[0m\u001b[0;34m]\u001b[0m\u001b[0;34m.\u001b[0m\u001b[0mvalues\u001b[0m\u001b[0;34m)\u001b[0m\u001b[0;34m\u001b[0m\u001b[0m\n\u001b[0m",
      "\u001b[0;31mNameError\u001b[0m: name 'y_pred' is not defined"
     ]
=======
     "data": {
      "text/plain": [
       "'acc = 0.947368'"
      ]
     },
     "execution_count": 74,
     "metadata": {},
     "output_type": "execute_result"
>>>>>>> 4fa6f4739464386e829825e16b48c227386d56a7
    }
   ],
   "source": [
    "'acc = %f' % np.mean(y_pred == df_test['male'].values)"
   ]
  },
  {
   "cell_type": "markdown",
   "metadata": {},
   "source": [
    "##### Круто. а где мы ошиблись ?"
   ]
  },
  {
   "cell_type": "code",
<<<<<<< HEAD
   "execution_count": 54,
=======
   "execution_count": 65,
>>>>>>> 4fa6f4739464386e829825e16b48c227386d56a7
   "metadata": {
    "ExecuteTime": {
     "end_time": "2018-10-09T15:30:44.238147Z",
     "start_time": "2018-10-09T15:30:44.218588Z"
    }
   },
   "outputs": [
    {
<<<<<<< HEAD
     "ename": "NameError",
     "evalue": "name 'y_pred' is not defined",
     "output_type": "error",
     "traceback": [
      "\u001b[0;31m---------------------------------------------------------------------------\u001b[0m",
      "\u001b[0;31mNameError\u001b[0m                                 Traceback (most recent call last)",
      "\u001b[0;32m<ipython-input-54-0723c7a095f8>\u001b[0m in \u001b[0;36m<module>\u001b[0;34m()\u001b[0m\n\u001b[0;32m----> 1\u001b[0;31m \u001b[0mdf_test\u001b[0m\u001b[0;34m[\u001b[0m\u001b[0my_pred\u001b[0m \u001b[0;34m!=\u001b[0m \u001b[0mdf_test\u001b[0m\u001b[0;34m[\u001b[0m\u001b[0;34m'male'\u001b[0m\u001b[0;34m]\u001b[0m\u001b[0;34m.\u001b[0m\u001b[0mvalues\u001b[0m\u001b[0;34m]\u001b[0m\u001b[0;34m\u001b[0m\u001b[0m\n\u001b[0m",
      "\u001b[0;31mNameError\u001b[0m: name 'y_pred' is not defined"
     ]
=======
     "data": {
      "text/html": [
       "<div>\n",
       "<table border=\"1\" class=\"dataframe\">\n",
       "  <thead>\n",
       "    <tr style=\"text-align: right;\">\n",
       "      <th></th>\n",
       "      <th>height</th>\n",
       "      <th>weight</th>\n",
       "      <th>age</th>\n",
       "      <th>male</th>\n",
       "    </tr>\n",
       "  </thead>\n",
       "  <tbody>\n",
       "    <tr>\n",
       "      <th>150</th>\n",
       "      <td>154.305</td>\n",
       "      <td>47.853956</td>\n",
       "      <td>34.0</td>\n",
       "      <td>0</td>\n",
       "    </tr>\n",
       "    <tr>\n",
       "      <th>159</th>\n",
       "      <td>149.860</td>\n",
       "      <td>53.438807</td>\n",
       "      <td>45.0</td>\n",
       "      <td>0</td>\n",
       "    </tr>\n",
       "    <tr>\n",
       "      <th>165</th>\n",
       "      <td>154.940</td>\n",
       "      <td>49.696673</td>\n",
       "      <td>26.0</td>\n",
       "      <td>1</td>\n",
       "    </tr>\n",
       "  </tbody>\n",
       "</table>\n",
       "</div>"
      ],
      "text/plain": [
       "      height     weight   age  male\n",
       "150  154.305  47.853956  34.0     0\n",
       "159  149.860  53.438807  45.0     0\n",
       "165  154.940  49.696673  26.0     1"
      ]
     },
     "execution_count": 65,
     "metadata": {},
     "output_type": "execute_result"
>>>>>>> 4fa6f4739464386e829825e16b48c227386d56a7
    }
   ],
   "source": [
    "df_test[y_pred != df_test['male'].values]"
   ]
  },
  {
   "cell_type": "markdown",
   "metadata": {},
   "source": [
    "> мальчик ростом 154 см с весом ~50 кг. - кажется сложный кейс."
   ]
  },
  {
   "cell_type": "markdown",
   "metadata": {},
   "source": [
    "__________"
   ]
  },
  {
   "cell_type": "code",
   "execution_count": 75,
   "metadata": {
    "ExecuteTime": {
     "end_time": "2018-10-09T15:36:31.263126Z",
     "start_time": "2018-10-09T15:36:31.222441Z"
    }
   },
   "outputs": [
    {
     "name": "stdout",
     "output_type": "stream",
     "text": [
      "0.947368421053\n"
     ]
    }
   ],
   "source": [
    "# все есть в готовой бибилиотеке sklearn\n",
    "# _______________________________________\n",
    "\n",
    "\n",
    "from sklearn.neighbors import KNeighborsClassifier\n",
    "from sklearn.preprocessing import StandardScaler\n",
    "from sklearn.metrics import accuracy_score\n",
    "\n",
    "knn_model = KNeighborsClassifier(n_neighbors=8)\n",
    "sc = StandardScaler()\n",
    "\n",
    "X_train = df_train[['height', 'weight']].values\n",
    "y_train = df_train['male'].values\n",
    "\n",
    "X_test = df_test[['height', 'weight']].values\n",
    "\n",
    "sc.fit(X_train)\n",
    "X_train = sc.transform(X_train)\n",
    "X_test = sc.transform(X_test)\n",
    "\n",
    "knn_model.fit(X_train, y_train)\n",
    "\n",
    "y_pred = knn_model.predict(X_test)\n",
    "print(accuracy_score(df_test['male'].values, y_pred))"
   ]
  },
  {
   "cell_type": "markdown",
   "metadata": {},
   "source": [
    "____"
   ]
  },
  {
   "cell_type": "raw",
   "metadata": {},
   "source": [
    "Чемпионы. Но у команды есть вопросы:\n",
    "    \n",
    "    - мы отфильтровали вначале, но что будет с детьми ?\n",
    "    - что будет на разных континентах ? \n",
    "    "
   ]
  },
  {
   "cell_type": "code",
   "execution_count": null,
   "metadata": {
    "collapsed": true
   },
   "outputs": [],
   "source": []
  },
  {
   "cell_type": "code",
   "execution_count": null,
   "metadata": {
    "collapsed": true
   },
   "outputs": [],
   "source": []
  },
  {
   "cell_type": "code",
   "execution_count": null,
   "metadata": {
    "collapsed": true
   },
   "outputs": [],
   "source": []
  },
  {
   "cell_type": "code",
   "execution_count": null,
   "metadata": {
    "collapsed": true
   },
   "outputs": [],
   "source": []
  },
  {
   "cell_type": "code",
   "execution_count": null,
   "metadata": {
    "collapsed": true
   },
   "outputs": [],
   "source": []
  },
  {
   "cell_type": "code",
   "execution_count": null,
   "metadata": {
    "collapsed": true
   },
   "outputs": [],
   "source": []
  },
  {
   "cell_type": "markdown",
   "metadata": {},
   "source": [
    "Пусть $ X $ - множество описаний объектов, $ Y $ - множество допустимых ответов. \n",
    "\n",
    "Существует неизвестная целевая зависимость $ f: X \\to Y $ \n",
    "\n",
    "значения которой известны только на объектах обучающей выборки \n",
    "\n",
    "$X^m = \\{(x_1,y_1),\\dots,(x_m,y_m)\\}$\n",
    "\n",
    "Требуется построить алгоритм $a: X\\to Y$, который приближал бы неизвестную \n",
    "\n",
    "целевую зависимость как на элементах выборки, так и на всём множестве $X$."
   ]
  },
  {
   "cell_type": "code",
   "execution_count": null,
   "metadata": {
    "collapsed": true
   },
   "outputs": [],
   "source": []
  },
  {
   "cell_type": "code",
   "execution_count": null,
   "metadata": {
    "collapsed": true
   },
   "outputs": [],
   "source": [
    "http://cs231n.github.io/optimization-1/"
   ]
  },
  {
   "cell_type": "code",
   "execution_count": null,
   "metadata": {
    "collapsed": true
   },
   "outputs": [],
   "source": []
  }
 ],
 "metadata": {
  "kernelspec": {
   "display_name": "Python 3",
   "language": "python",
   "name": "python3"
  },
  "language_info": {
   "codemirror_mode": {
    "name": "ipython",
    "version": 3
   },
   "file_extension": ".py",
   "mimetype": "text/x-python",
   "name": "python",
   "nbconvert_exporter": "python",
   "pygments_lexer": "ipython3",
<<<<<<< HEAD
   "version": "3.6.5"
=======
   "version": "3.5.0"
>>>>>>> 4fa6f4739464386e829825e16b48c227386d56a7
  }
 },
 "nbformat": 4,
 "nbformat_minor": 2
}
